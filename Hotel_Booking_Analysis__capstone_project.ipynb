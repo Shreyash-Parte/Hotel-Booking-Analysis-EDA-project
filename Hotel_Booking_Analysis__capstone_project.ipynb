{
  "nbformat": 4,
  "nbformat_minor": 0,
  "metadata": {
    "colab": {
      "private_outputs": true,
      "provenance": [],
      "cell_execution_strategy": "setup",
      "include_colab_link": true
    },
    "kernelspec": {
      "name": "python3",
      "display_name": "Python 3"
    },
    "language_info": {
      "name": "python"
    }
  },
  "cells": [
    {
      "cell_type": "markdown",
      "metadata": {
        "id": "view-in-github",
        "colab_type": "text"
      },
      "source": [
        "<a href=\"https://colab.research.google.com/github/Shreyash-Parte/Hotel-Booking-Analysis-EDA-project/blob/main/Hotel_Booking_Analysis__capstone_project.ipynb\" target=\"_parent\"><img src=\"https://colab.research.google.com/assets/colab-badge.svg\" alt=\"Open In Colab\"/></a>"
      ]
    },
    {
      "cell_type": "markdown",
      "source": [
        "# **Project Name**    - HOTEL BOOKING ANALYSIS\n",
        "\n"
      ],
      "metadata": {
        "id": "vncDsAP0Gaoa"
      }
    },
    {
      "cell_type": "markdown",
      "source": [
        "##### **Project Type**    - EDA\n",
        "##### **Contribution**    - Team\n",
        "##### **Team Member 1 -Shraddha Gurav**\n",
        "##### **Team Member 2 -Shreyash Parte**\n",
        "##### **Team Member 3 -Suraj Sasane**"
      ],
      "metadata": {
        "id": "beRrZCGUAJYm"
      }
    },
    {
      "cell_type": "markdown",
      "source": [
        "# **Project Summary -**"
      ],
      "metadata": {
        "id": "FJNUwmbgGyua"
      }
    },
    {
      "cell_type": "markdown",
      "source": [
        "This project is related to Hotel Booking having two hotel description i.e \"CITY HOTEL\" AND \"RESORT HOTEL\".In this dataset contains total rows 119390 and 32 columns in this we divide data manipulation in three category 'Data Collection','Data Cleaning' and Manipulation and EDA(Exploratory Data Analysis).As further moved i.e Data collection first step to find different columns which is done by coding Head (),Tail(),Info(),Describe(),Columns() and some other method used for data collection.Some of the columns name is updated here i.e hotel,is_canceled,lead_time,arrival__date_year,arrival_date_month,arrival_date_week,stay_in_weekend_nights.As we further moved we find unique value of each coloumn and genrate a list in tabular form and also check the dataset type of each column.Find some coloumns not in accurate data types which correct it later done in 'Data Cleaning'Part and as well as duplicates data items must be removed as we find duplicates items equal to 87396 which is dropped from dataset later.\n",
        "                  Before visualize any data from the data set we have to do data wrangling.For that we are checked the null value of all the columns.After checking when we got a coloumn which has more number of null values,dropped that coloumns by using 'DROP' method .In this we dropped some coloumnn .When we find minimal number of null values with necessary values as per requirement by using fillna().\n",
        "Different charts used for data visualization so that better business insights and objects attained.\n",
        "                      "
      ],
      "metadata": {
        "id": "F6v_1wHtG2nS"
      }
    },
    {
      "cell_type": "markdown",
      "source": [
        "# **GitHub Link -**"
      ],
      "metadata": {
        "id": "w6K7xa23Elo4"
      }
    },
    {
      "cell_type": "markdown",
      "source": [
        "https://github.com/Shreyash-Parte/Hotel-Booking-Analysis-EDA-project/tree/main"
      ],
      "metadata": {
        "id": "h1o69JH3Eqqn"
      }
    },
    {
      "cell_type": "markdown",
      "source": [
        "# **Problem Statement**\n"
      ],
      "metadata": {
        "id": "yQaldy8SH6Dl"
      }
    },
    {
      "cell_type": "markdown",
      "source": [
        "Have you ever wondered when the best time of year to book a hotel room is ? Or the optimal length of stay in order to get the best daily rate ? What if you wanted to predict whether or not a hotel was likely to recieve a disproportionately high number of special request ? This hotel booking dataset can help you explore those qustions ! This dataset contain booking information for 'CITY HOTEL' and 'RESORT HOTEL, and includes information such as when the booking was made ,lenth of the stay ,the number of adults ,children and babies and the number of available parking space and some other things .Personal identity information has been removed from the dataset.Explore and analyse the data to discover important factors that govern the bookings."
      ],
      "metadata": {
        "id": "DpeJGUA3kjGy"
      }
    },
    {
      "cell_type": "markdown",
      "source": [
        "#### **Define Your Business Objective?**"
      ],
      "metadata": {
        "id": "PH-0ReGfmX4f"
      }
    },
    {
      "cell_type": "markdown",
      "source": [
        "The Business Objective of the Hotel Booking Analysis EDA project is to use data analysis to enhance the hotel's performance, improve customer satisfaction, and maximize revenue. By understanding booking patterns, customer preferences, and operational efficiency, the project aims to make informed decisions that optimize resource allocation, personalize services, and implement effective marketing strategies to attract and retain guests. Ultimately, the project seeks to position the hotel as a preferred choice for guests and achieve long-term success in the competitive market."
      ],
      "metadata": {
        "id": "PhDvGCAqmjP1"
      }
    },
    {
      "cell_type": "markdown",
      "source": [
        "# **General Guidelines** : -  "
      ],
      "metadata": {
        "id": "mDgbUHAGgjLW"
      }
    },
    {
      "cell_type": "markdown",
      "source": [
        "1.   Well-structured, formatted, and commented code is required.\n",
        "2.   Exception Handling, Production Grade Code & Deployment Ready Code will be a plus. Those students will be awarded some additional credits.\n",
        "     \n",
        "     The additional credits will have advantages over other students during Star Student selection.\n",
        "       \n",
        "             [ Note: - Deployment Ready Code is defined as, the whole .ipynb notebook should be executable in one go\n",
        "                       without a single error logged. ]\n",
        "\n",
        "3.   Each and every logic should have proper comments.\n",
        "4. You may add as many number of charts you want. Make Sure for each and every chart the following format should be answered.\n",
        "        \n",
        "\n",
        "```\n",
        "# Chart visualization code\n",
        "```\n",
        "            \n",
        "\n",
        "*   Why did you pick the specific chart?\n",
        "*   What is/are the insight(s) found from the chart?\n",
        "* Will the gained insights help creating a positive business impact?\n",
        "Are there any insights that lead to negative growth? Justify with specific reason.\n",
        "\n",
        "5. You have to create at least 20 logical & meaningful charts having important insights.\n",
        "\n",
        "\n",
        "[ Hints : - Do the Vizualization in  a structured way while following \"UBM\" Rule.\n",
        "\n",
        "U - Univariate Analysis,\n",
        "\n",
        "B - Bivariate Analysis (Numerical - Categorical, Numerical - Numerical, Categorical - Categorical)\n",
        "\n",
        "M - Multivariate Analysis\n",
        " ]\n",
        "\n",
        "\n",
        "\n"
      ],
      "metadata": {
        "id": "ZrxVaUj-hHfC"
      }
    },
    {
      "cell_type": "markdown",
      "source": [
        "# ***Let's Begin !***"
      ],
      "metadata": {
        "id": "O_i_v8NEhb9l"
      }
    },
    {
      "cell_type": "markdown",
      "source": [
        "## ***1. Know Your Data***"
      ],
      "metadata": {
        "id": "HhfV-JJviCcP"
      }
    },
    {
      "cell_type": "markdown",
      "source": [
        "### Import Libraries"
      ],
      "metadata": {
        "id": "Y3lxredqlCYt"
      }
    },
    {
      "cell_type": "code",
      "source": [
        "# Import Libraries\n",
        "import numpy as np\n",
        "import pandas as pd\n",
        "from matplotlib import pyplot as plt\n",
        "import seaborn as sns\n",
        "%matplotlib inline"
      ],
      "metadata": {
        "id": "M8Vqi-pPk-HR"
      },
      "execution_count": null,
      "outputs": []
    },
    {
      "cell_type": "markdown",
      "source": [
        "### Dataset Loading"
      ],
      "metadata": {
        "id": "3RnN4peoiCZX"
      }
    },
    {
      "cell_type": "code",
      "source": [
        "# Load Dataset\n",
        "# Reading the Data\n",
        "Hotel_Bookings=pd.read_csv(\"/Hotel Bookings.csv\")\n",
        "Hotel_Bookings.head()                                                                                   # it will give first five records"
      ],
      "metadata": {
        "id": "4CkvbW_SlZ_R"
      },
      "execution_count": null,
      "outputs": []
    },
    {
      "cell_type": "markdown",
      "source": [
        "### Dataset First View"
      ],
      "metadata": {
        "id": "x71ZqKXriCWQ"
      }
    },
    {
      "cell_type": "code",
      "source": [
        "# Dataset First Look\n",
        "\n",
        "Hotel_Bookings.head()                                                                                  # it will give first five records"
      ],
      "metadata": {
        "id": "LWNFOSvLl09H"
      },
      "execution_count": null,
      "outputs": []
    },
    {
      "cell_type": "markdown",
      "source": [
        "###**We have 5 rows and 32 columns**"
      ],
      "metadata": {
        "id": "8XdbpdsruOgU"
      }
    },
    {
      "cell_type": "code",
      "source": [
        "Hotel_Bookings.tail()                                                                                  # It will give last five records"
      ],
      "metadata": {
        "id": "HcGypxMl1l_W"
      },
      "execution_count": null,
      "outputs": []
    },
    {
      "cell_type": "markdown",
      "source": [
        "### Dataset Rows & Columns count"
      ],
      "metadata": {
        "id": "7hBIi_osiCS2"
      }
    },
    {
      "cell_type": "code",
      "source": [
        "# Dataset Rows & Columns count\n",
        "# Checking the number of rows and columns\n",
        "Hotel_Bookings.shape"
      ],
      "metadata": {
        "id": "Kllu7SJgmLij"
      },
      "execution_count": null,
      "outputs": []
    },
    {
      "cell_type": "markdown",
      "source": [
        "### Dataset Information"
      ],
      "metadata": {
        "id": "JlHwYmJAmNHm"
      }
    },
    {
      "cell_type": "code",
      "source": [
        "# Dataset Info\n",
        "\n",
        "Hotel_Bookings.info()"
      ],
      "metadata": {
        "id": "e9hRXRi6meOf"
      },
      "execution_count": null,
      "outputs": []
    },
    {
      "cell_type": "code",
      "source": [
        "# To know the columns name\n",
        "\n",
        "Hotel_Bookings.columns"
      ],
      "metadata": {
        "id": "hPKchHYuuxTJ"
      },
      "execution_count": null,
      "outputs": []
    },
    {
      "cell_type": "markdown",
      "source": [
        "#### Duplicate Values"
      ],
      "metadata": {
        "id": "35m5QtbWiB9F"
      }
    },
    {
      "cell_type": "code",
      "source": [
        "# Dataset Duplicate Value Count\n",
        "Duplicate_count=Hotel_Bookings.duplicated().sum()\n",
        "Duplicate_count"
      ],
      "metadata": {
        "id": "1sLdpKYkmox0"
      },
      "execution_count": null,
      "outputs": []
    },
    {
      "cell_type": "markdown",
      "source": [
        "#### Missing Values/Null Values"
      ],
      "metadata": {
        "id": "PoPl-ycgm1ru"
      }
    },
    {
      "cell_type": "code",
      "source": [
        "# Missing Values/Null Values Count\n",
        "Null_values_count=Hotel_Bookings.isnull().sum().sort_values(ascending=False)\n",
        "Null_values_count"
      ],
      "metadata": {
        "id": "GgHWkxvamxVg"
      },
      "execution_count": null,
      "outputs": []
    },
    {
      "cell_type": "code",
      "source": [
        "# Visualizing the missing values\n",
        "import matplotlib.pyplot as plt\n",
        "\n",
        "#missing_values_columns and percentage of missing values in the columns\n",
        "missing_columns = ['country', 'agent','company']\n",
        "missing_values_percentage = (Hotel_Bookings[missing_columns].isnull().mean())*100\n",
        "\n",
        "#chnage the colour of bars\n",
        "bar_colors = ['blue', 'orange', 'green']\n",
        "\n",
        "#Bar_chart to visulaize the missing values in column\n",
        "plt.bar(missing_columns, missing_values_percentage,color = bar_colors)\n",
        "\n",
        "#Labels and titles of Bar_chart\n",
        "plt.xlabel('Missing_values_Columns')\n",
        "plt.ylabel('Percentage of Missing Values')\n",
        "plt.title('Percentage of Missing Values in Columns')\n",
        "plt.show()"
      ],
      "metadata": {
        "id": "3q5wnI3om9sJ"
      },
      "execution_count": null,
      "outputs": []
    },
    {
      "cell_type": "markdown",
      "source": [
        "### What did you know about your dataset?"
      ],
      "metadata": {
        "id": "H0kj-8xxnORC"
      }
    },
    {
      "cell_type": "markdown",
      "source": [
        "Based on the provided information about the hotel booking dataset, we have a comprehensive dataset consisting of 119,390 rows and 32 columns. Among these columns, 'country', 'agent', and 'company' have missing or null values, with 'country' having 488 missing values, 'agent' having 16,340 missing values, and 'company' having a substantial 112,593 missing values.\n",
        "\n",
        "With this dataset, we can perform exploratory data analysis (EDA) to gain valuable insights into hotel booking patterns and customer behavior. The dataset contains various features related to bookings, such as 'lead_time', 'arrival_date_year', 'arrival_date_month', 'stays_in_weekend_nights', 'stays_in_week_nights', 'meal', 'market_segment', 'deposit_type', 'days_in_waiting_list', 'customer_type', 'adr', 'required_car_parking_spaces', 'total_of_special_requests', and 'reservation_status'.\n",
        "\n",
        "Key areas of analysis could include understanding cancellation trends, seasonal booking patterns, preferred room types, customer segments, and the impact of booking lead time on cancellations. Additionally, investigating the distribution of special requests and their relationship with customer satisfaction could provide valuable insights for the hotel management. However, it's crucial to handle the missing values appropriately and preprocess the data before delving deeper into the analysis to ensure the reliability and accuracy of the insights gained from the EDA process.\n",
        "\n",
        "Once we handle the missing values, we can dig into the data to find interesting patterns and trends. We'll be able to see things like when most people book their stays, which months are busier for the hotel, and how long people usually wait between booking and arriving. We can also find out which type of hotel room is the most popular and what kind of guests visit the hotel the most.By doing this, we'll gain valuable insights that can help the hotel make better decisions and improve their services for guests. But, it's essential to start by cleaning the data and making sure everything is accurate and reliable, so our analysis is based on solid information."
      ],
      "metadata": {
        "id": "gfoNAAC-nUe_"
      }
    },
    {
      "cell_type": "markdown",
      "source": [
        "## ***2. Understanding Your Variables***"
      ],
      "metadata": {
        "id": "nA9Y7ga8ng1Z"
      }
    },
    {
      "cell_type": "code",
      "source": [
        "# Dataset Columns\n",
        "\n",
        "Hotel_Bookings.columns"
      ],
      "metadata": {
        "id": "j7xfkqrt5Ag5"
      },
      "execution_count": null,
      "outputs": []
    },
    {
      "cell_type": "code",
      "source": [
        "# Dataset Describe\n",
        "\n",
        "Hotel_Bookings.describe()"
      ],
      "metadata": {
        "id": "DnOaZdaE5Q5t"
      },
      "execution_count": null,
      "outputs": []
    },
    {
      "cell_type": "markdown",
      "source": [
        "### Variables Description"
      ],
      "metadata": {
        "id": "PBTbrJXOngz2"
      }
    },
    {
      "cell_type": "markdown",
      "source": [
        "1.Hotel : Different type of Hotels.\n",
        "\n",
        "2.is_canceled : The value indicates whether or not the reservation has been cancelled.\n",
        "\n",
        "3.lead_time : How far in advance the reservation was made.\n",
        "\n",
        "4.arrival_date_year : Year of customer arrival.\n",
        "\n",
        "5.arrival_date_month :Which month of the year did the customer visit.\n",
        "\n",
        "6.arrival_date_week_number: Which week of the year.\n",
        "\n",
        "7.arrival_date_day_of_month :The month in which the customer visited the hotel.\n",
        "\n",
        "8.stays_in_weekend_nights : Customer stayed or booked to stay in hotel during weekend nights.\n",
        "\n",
        "9.stays_in_week_nights : The customer stayed or planned to stay in a hotel on a weekend night.\n",
        "\n",
        "10.adults : Number of adults.\n",
        "\n",
        "11.children : number of children.\n",
        "\n",
        "12.babies : Number of babies.\n",
        "\n",
        "13.meal : Type of meal booked.:\n",
        "\n",
        "14.country : Country of orgin of customer.\n",
        "\n",
        "15.market_segment : where the bookings came from.\n",
        "\n",
        "16.distribution_channel : Booking distribution channel. The term “TA” means “Travel Agents” and “TO” means “Tour Operators” .\n",
        "\n",
        "17.is_repeated_guest : Value indicating if the booking name was from a repeated guest (1) or not (0).\n",
        "\n",
        "18.previous_cancellations : The number of previous bookings that the customer cancelled prior to the current booking.\n",
        "\n",
        "19.previous_bookings_not_canceled : Number of previous bookings that were cancelled by the customer prior to the current booking.\n",
        "\n",
        "20.reserved_room_type : The number of previous bookings cancelled by the customer prior to the current booking.\n",
        "\n",
        "21.assigned_room_type : The code for the room type assigned to the booking.\n",
        "Because of this, the assigned room type may differ from the reserved room type.\n",
        "\n",
        "22.*booking_changes *: Number of changes/amendments made to the booking from the moment the booking was entered on the PMS.\n",
        "\n",
        "23.deposit_type : Indicates whether or not the customer paid a deposit to secure the reservation.\n",
        "\n",
        "24.agent : The ID of the travel agency that made the reservation.\n",
        "\n",
        "25.company : ID of the company/entity that made the reservation or is responsible for paying the reservation.\n",
        "\n",
        "26.days_in_waiting_list : The number of days the reservation was on the waiting list before being confirmed to the customer.\n",
        "\n",
        "27.customer_type : Booking type, assuming one of four categories.\n",
        "\n",
        "*adr *: The average daily rate is calculated by dividing the total number of staying nights by the sum of all lodging transactions.\n",
        "\n",
        "28.required_car_parking_spaces : The number of parking spaces needed by the customer.\n",
        "\n",
        "29.*total_of_special_requests *: The number of customer special requests (e.g. twin bed or high floor).\n",
        "\n",
        "30.reservation_status : Last reservation status in one of three categories: Canceled - the customer cancelled the reservation; Check-out: the customer checked out of the hotel. No show: the customer did not check in to the hotel and informed the hotel of the reason.\n",
        "\n",
        "31.reservation_status_date : The date on which the most recent status was set. This variable, in conjunction with the Reservation Status, can be used to determine when the booking was cancelled or when the customer checked out of the hotel.\n"
      ],
      "metadata": {
        "id": "aJV4KIxSnxay"
      }
    },
    {
      "cell_type": "markdown",
      "source": [
        "### Check Unique Values for each variable."
      ],
      "metadata": {
        "id": "u3PMJOP6ngxN"
      }
    },
    {
      "cell_type": "code",
      "source": [
        "# Check Unique Values for each variable.\n",
        "print(Hotel_Bookings.apply(lambda col: col.unique()))        # we have describe unique value in all individual column"
      ],
      "metadata": {
        "id": "zms12Yq5n-jE"
      },
      "execution_count": null,
      "outputs": []
    },
    {
      "cell_type": "markdown",
      "source": [
        "## 3. ***Data Wrangling***"
      ],
      "metadata": {
        "id": "dauF4eBmngu3"
      }
    },
    {
      "cell_type": "markdown",
      "source": [
        "The process of repairing or removing incorrect, corrupted, incorrectly formatted, duplicate, or incomplete data from a dataset is known as data cleaning. There are numerous opportunities for data to be duplicated or mislabeled when combining multiple data sources.\n",
        "\n",
        "If the data is incorrect, the results and algorithms are untrustworthy, even if they appear to be correct.\n",
        "\n",
        "Because the processes vary from dataset to dataset, there is no one absolute way to prescribe the exact steps in the data cleaning process. However, it is critical to create a template for your data cleaning process so that you know you are doing it correctly every time."
      ],
      "metadata": {
        "id": "MzEud34t4WID"
      }
    },
    {
      "cell_type": "markdown",
      "source": [
        "### Data Wrangling Code"
      ],
      "metadata": {
        "id": "bKJF3rekwFvQ"
      }
    },
    {
      "cell_type": "code",
      "source": [
        "# Write your code to make your dataset analysis ready.\n",
        "#Creating a copy of dataset\n",
        "df_hotel = Hotel_Bookings.copy()"
      ],
      "metadata": {
        "id": "wk-9a2fpoLcV"
      },
      "execution_count": null,
      "outputs": []
    },
    {
      "cell_type": "code",
      "source": [
        "#Dropping the duplicate values from hotel booking dataset\n",
        "df_hotel = Hotel_Bookings.drop_duplicates()"
      ],
      "metadata": {
        "id": "e1VDX0ZN5h9c"
      },
      "execution_count": null,
      "outputs": []
    },
    {
      "cell_type": "code",
      "source": [
        "#Recheking the shape of our hotel booking dataset after dropping all the duplicates\n",
        "df_hotel.shape"
      ],
      "metadata": {
        "id": "4sKW3oWl5pda"
      },
      "execution_count": null,
      "outputs": []
    },
    {
      "cell_type": "code",
      "source": [
        "#Recheking our hotel booking dataset wheater they have any more duplicate values.\n",
        "df_hotel.duplicated().sum()"
      ],
      "metadata": {
        "id": "HCG324n65usA"
      },
      "execution_count": null,
      "outputs": []
    },
    {
      "cell_type": "markdown",
      "source": [
        "Now Duplicated data has been removed from hotel booking dataset, but we still have missing values. Let's deal with them"
      ],
      "metadata": {
        "id": "JwtLG-Cv51YY"
      }
    },
    {
      "cell_type": "code",
      "source": [
        "Hotel_Bookings.sample(4)"
      ],
      "metadata": {
        "id": "U2nPGh4I56fc"
      },
      "execution_count": null,
      "outputs": []
    },
    {
      "cell_type": "code",
      "source": [
        "# Defining the function\n",
        "def null_detail(df):\n",
        "  func_df= pd.DataFrame(index= df.columns, columns=[\"datatype\", \"total_values\", \"na_values\", \"non_na_values\", \"%na_values\", \"unique_count\"])\n",
        "  func_df[\"datatype\"]= [type(i) for i in list(df.columns)]\n",
        "  func_df[\"total_values\"]= [len(df[i]) for i in list(df.columns)]\n",
        "  func_df[\"na_values\"]= [df[i].isnull().sum() for i in list(df.columns)]\n",
        "  func_df[\"non_na_values\"]= [(~df[i].isnull()).sum() for i in list(df.columns)]\n",
        "  func_df[\"%na_values\"]= [df[i].isnull().mean()*100 for i in list(df.columns)]\n",
        "  func_df[\"unique_count\"]= [len(df[i].unique()) for i in list(df.columns)]\n",
        "  return func_df"
      ],
      "metadata": {
        "id": "mbEshMZe6DXR"
      },
      "execution_count": null,
      "outputs": []
    },
    {
      "cell_type": "code",
      "source": [
        "null_detail(Hotel_Bookings)"
      ],
      "metadata": {
        "id": "A2LcZDiW6I1g"
      },
      "execution_count": null,
      "outputs": []
    },
    {
      "cell_type": "markdown",
      "source": [
        "#**Total Null Values**\n",
        "\n",
        "Children = 4\n",
        "\n",
        "Agent = 12193\n",
        "\n",
        "Company = 82137\n",
        "\n",
        "Country = 452\n",
        "\n",
        "Since we have 4 null values in children and the agent has 12193 null values, let's replace them with 0.\n",
        "\n",
        "In comparison to other countries, the country has 82137 null values."
      ],
      "metadata": {
        "id": "_mZmX6Zr6rPv"
      }
    },
    {
      "cell_type": "code",
      "source": [
        "#Company and agent values replaced with zero\n",
        "df_hotel[['company','agent']] = df_hotel[['company','agent']].fillna(0)"
      ],
      "metadata": {
        "id": "pa1vuDqT7IJp"
      },
      "execution_count": null,
      "outputs": []
    },
    {
      "cell_type": "code",
      "source": [
        "df_hotel['children'].fillna(df_hotel['children'].mean(), inplace = True)"
      ],
      "metadata": {
        "id": "Vyh9tVJQ7LP3"
      },
      "execution_count": null,
      "outputs": []
    },
    {
      "cell_type": "code",
      "source": [
        "df_hotel['country'].fillna('others', inplace = True)"
      ],
      "metadata": {
        "id": "MF0LRTLM7SdK"
      },
      "execution_count": null,
      "outputs": []
    },
    {
      "cell_type": "code",
      "source": [
        "null_detail(df_hotel)"
      ],
      "metadata": {
        "id": "zUb9iiJy7Xz9"
      },
      "execution_count": null,
      "outputs": []
    },
    {
      "cell_type": "code",
      "source": [
        "Hotel_Bookings.info()"
      ],
      "metadata": {
        "id": "l1khg7mh7cCI"
      },
      "execution_count": null,
      "outputs": []
    },
    {
      "cell_type": "markdown",
      "source": [
        "#**Converting Datatypes**"
      ],
      "metadata": {
        "id": "WU3uaXdN7jjK"
      }
    },
    {
      "cell_type": "code",
      "source": [
        "# Converting datatype of columns 'children', 'company' and 'agent' from float to int.\n",
        "df_hotel[['children', 'company', 'agent']] = df_hotel[['children', 'company', 'agent']].astype('int64')\n"
      ],
      "metadata": {
        "id": "BuECVmdV7udR"
      },
      "execution_count": null,
      "outputs": []
    },
    {
      "cell_type": "code",
      "source": [
        "# changing datatype of column 'reservation_status_date' to data_type.\n",
        "df_hotel['reservation_status_date'] = pd.to_datetime(df_hotel['reservation_status_date'], format = '%Y-%m-%d')"
      ],
      "metadata": {
        "id": "kfjsJz4K7yga"
      },
      "execution_count": null,
      "outputs": []
    },
    {
      "cell_type": "markdown",
      "source": [
        "#**Adding Required Columns**"
      ],
      "metadata": {
        "id": "u6Wi53S876vQ"
      }
    },
    {
      "cell_type": "code",
      "source": [
        "# Adding total staying days in hotels\n",
        "df_hotel['total_stay'] = df_hotel['stays_in_weekend_nights']+df_hotel['stays_in_week_nights']\n",
        "\n",
        "# Adding total people num as column, i.e. total people num = num of adults + children + babies\n",
        "df_hotel['total_people'] = df_hotel['adults']+df_hotel['children']+df_hotel['babies']"
      ],
      "metadata": {
        "id": "d8Sd__0S75_m"
      },
      "execution_count": null,
      "outputs": []
    },
    {
      "cell_type": "code",
      "source": [
        "df_hotel.describe()"
      ],
      "metadata": {
        "id": "FlYNPqXJ8HIF"
      },
      "execution_count": null,
      "outputs": []
    },
    {
      "cell_type": "markdown",
      "source": [
        "#**Exploratory Data Analysis**\n",
        "\n",
        "We will first find the realtionship between the numerical data:\n",
        "\n",
        "Since, columns like 'is_cancelled', 'arrival_date_year', 'arrival_date_week_number', 'arrival_date_day_of_month', 'is_repeated_guest', 'company', 'agent' are categorical data having numerical type. So we won't need to check them for correlation.\n",
        "\n",
        "Also, we have added total_stay and total_people columns. So, we can remove adults, children, babies, stays_in_weekend_nights, stays_in_week_nights columns."
      ],
      "metadata": {
        "id": "7uo_Db4-9jpZ"
      }
    },
    {
      "cell_type": "code",
      "source": [
        "correlation = df_hotel[['lead_time','previous_cancellations','previous_bookings_not_canceled','booking_changes','days_in_waiting_list','adr','required_car_parking_spaces','total_of_special_requests','total_stay','total_people']]\n"
      ],
      "metadata": {
        "id": "ZIG6jNzK9E0B"
      },
      "execution_count": null,
      "outputs": []
    },
    {
      "cell_type": "code",
      "source": [
        "\n",
        "#correlation matrix\n",
        "plt.figure(figsize=(12, 6))\n",
        "sns.heatmap(correlation.corr(), annot=True)"
      ],
      "metadata": {
        "id": "knHck1tk9xDj"
      },
      "execution_count": null,
      "outputs": []
    },
    {
      "cell_type": "markdown",
      "source": [
        "The total length of stay and the lead time have a slight correlation. This could imply that for longer hotel stays, people generally plan little ahead of time.\n",
        "\n",
        "Adr revenue is slightly correlated with total people, which makes sense because more people means more revenue, and thus more ad revenue."
      ],
      "metadata": {
        "id": "k8F0YygS94OR"
      }
    },
    {
      "cell_type": "markdown",
      "source": [
        "#**What all manipulations have you done and insights you found?**"
      ],
      "metadata": {
        "id": "MSa1f5Uengrz"
      }
    },
    {
      "cell_type": "markdown",
      "source": [
        "In our data wrangling process for the hotel booking analysis, we performed several manipulations to prepare the dataset for in-depth exploration. Here are the key steps we took and the insights we found:\n",
        "\n",
        "Remove Duplicate Rows: We identified and removed any duplicate entries in the dataset to ensure data integrity. This step allowed us to focus on unique booking records and avoid any repetition in our analysis.\n",
        "\n",
        "Handling Missing Values: We addressed missing values in columns like 'country', 'agent', and 'company'. For 'country', we retained the missing values as they represented cases where customers might not have specified a country during the booking process. However, for 'agent' and 'company', which represented agent and company numbers, respectively, we filled the missing values with 0, as it indicated that those bookings were not made through any specific agent or company.\n",
        "\n",
        "Convert Columns to Appropriate Datatypes: We converted the 'children', 'company', and 'agent' columns from float to integer data type, as they represented whole numbers. This conversion allowed us to work with these columns more efficiently in subsequent analyses.\n",
        "\n",
        "Adding Important Columns: We introduced two new columns, 'total guests' and 'total nights stayed', to gain deeper insights into booking patterns. By summing up the number of 'adults', 'children', and 'babies', we calculated the total number of guests for each booking. Similarly, by combining 'stays_in_weekend_nights' and 'stays_in_week_nights', we derived the total nights stayed."
      ],
      "metadata": {
        "id": "LbyXE7I1olp8"
      }
    },
    {
      "cell_type": "markdown",
      "source": [
        "#Plotting boxplot under the outlier"
      ],
      "metadata": {
        "id": "4A317N2HOr0B"
      }
    },
    {
      "cell_type": "code",
      "source": [
        "# defining a variable containing all the numerical columns\n",
        "columns = ['is_canceled', 'lead_time', 'stays_in_weekend_nights', 'stays_in_week_nights', 'required_car_parking_spaces', 'adr','days_in_waiting_list', 'previous_cancellations', 'previous_bookings_not_canceled', 'booking_changes']\n",
        "n = 1\n",
        "\n",
        "# plotting box plot using matplotlib\n",
        "\n",
        "plt.figure(figsize=(20,15))\n",
        "\n",
        "for column in columns:\n",
        "  plt.subplot(4,4,n)\n",
        "  n = n+1\n",
        "  sns.boxplot(df_hotel[column])"
      ],
      "metadata": {
        "id": "NFkgYUmLOosK"
      },
      "execution_count": null,
      "outputs": []
    },
    {
      "cell_type": "markdown",
      "source": [
        "As we can see, this dataset contains a large number of outliers, implying that it is not very reliable."
      ],
      "metadata": {
        "id": "D85xjpnKO-Wc"
      }
    },
    {
      "cell_type": "markdown",
      "source": [
        "## ***4. Data Vizualization, Storytelling & Experimenting with charts : Understand the relationships between variables***"
      ],
      "metadata": {
        "id": "GF8Ens_Soomf"
      }
    },
    {
      "cell_type": "markdown",
      "source": [
        "#### Chart - 1\n",
        "Que.1) What is count of each type of hotel?\n"
      ],
      "metadata": {
        "id": "0wOQAZs5pc--"
      }
    },
    {
      "cell_type": "code",
      "source": [
        "# Chart - 1 visualization code\n",
        "list_of_hotel = df_hotel['hotel'].value_counts()\n",
        "count_of_hotel = df_hotel['hotel'].value_counts().index\n",
        "print(list_of_hotel)\n",
        "print(count_of_hotel)"
      ],
      "metadata": {
        "id": "7v_ESjsspbW7"
      },
      "execution_count": null,
      "outputs": []
    },
    {
      "cell_type": "code",
      "source": [
        "#setting the graph's size\n",
        "plt.figure(figsize = (5, 5))\n",
        "# constructing a bar graph\n",
        "plt.bar(count_of_hotel,list_of_hotel , color =['blue','red'],width = 0.5)\n",
        "plt.xlabel(\"type of hotel\")\n",
        "plt.ylabel(\"count\")\n",
        "plt.title(\"Count of Both type of hotels\")\n",
        "#graph\n",
        "plt.show()"
      ],
      "metadata": {
        "id": "c5gFjNV5_TcB"
      },
      "execution_count": null,
      "outputs": []
    },
    {
      "cell_type": "markdown",
      "source": [
        "##### 1. Why did you pick the specific chart?"
      ],
      "metadata": {
        "id": "K5QZ13OEpz2H"
      }
    },
    {
      "cell_type": "markdown",
      "source": [
        "We choose the bar chart for visualizing the distribution of bookings based on the 'hotel' column because it is a clear and effective way to compare the number of bookings in different categories (City Hotel and Resort Hotel). The chart's simplicity allows for easy identification of the booking patterns in each hotel type, making it ideal for this scenario."
      ],
      "metadata": {
        "id": "XESiWehPqBRc"
      }
    },
    {
      "cell_type": "markdown",
      "source": [
        "##### 2. What is/are the insight(s) found from the chart?"
      ],
      "metadata": {
        "id": "lQ7QKXXCp7Bj"
      }
    },
    {
      "cell_type": "markdown",
      "source": [
        "The bar chart reveals that City Hotels have significantly higher bookings (50k+) compared to Resort Hotels (30-40k bookings). This indicates that City Hotels are more popular among customers or attract a larger number of guests compared to Resort Hotels. It also suggests that the demand for City Hotels might be higher, and there could be factors contributing to their popularity."
      ],
      "metadata": {
        "id": "C_j1G7yiqdRP"
      }
    },
    {
      "cell_type": "markdown",
      "source": [
        "##### 3. Will the gained insights help creating a positive business impact?\n",
        "Are there any insights that lead to negative growth? Justify with specific reason."
      ],
      "metadata": {
        "id": "448CDAPjqfQr"
      }
    },
    {
      "cell_type": "markdown",
      "source": [
        "Yes, the insights from the chart can have a positive business impact. Understanding the higher demand for City Hotels allows the management to focus on enhancing services, amenities, and marketing strategies for these hotels to further capitalize on their popularity.\n",
        "\n",
        "The bookings of the Resort Hotel is lower then the city hotel. So, need to do more marketing, provide more offers, family vacation discounts for resort hotel and also need to improve the service if necessary for resort hotel to increase the bookings Additionally, we can analyze the factors that attract more bookings to City Hotels and replicate those successful aspects in Resort Hotels, potentially increasing their bookings as well"
      ],
      "metadata": {
        "id": "3cspy4FjqxJW"
      }
    },
    {
      "cell_type": "markdown",
      "source": [
        "#### Chart - 2\n",
        "\n",
        "Q.2) Which of the two hotels is preferred by customer and which month hotels were booked ?"
      ],
      "metadata": {
        "id": "KSlN3yHqYklG"
      }
    },
    {
      "cell_type": "code",
      "source": [
        "# Chart - 2 visualization code\n",
        "\n",
        "df_hotel[\"hotel\"].value_counts()"
      ],
      "metadata": {
        "id": "R4YgtaqtYklH"
      },
      "execution_count": null,
      "outputs": []
    },
    {
      "cell_type": "code",
      "source": [
        "df_hotel['arrival_date_month'].value_counts()"
      ],
      "metadata": {
        "id": "M9a-2iMRAYwv"
      },
      "execution_count": null,
      "outputs": []
    },
    {
      "cell_type": "code",
      "source": [
        "#Plot month wise Hotel bookings\n",
        "import matplotlib.pyplot as plt\n",
        "import seaborn as sns\n",
        "import calendar\n",
        "\n",
        "# Convert 'arrival_date_month' to a categorical variable with proper order\n",
        "month_order = [calendar.month_name[i] for i in range(1, 13)]\n",
        "df_hotel['arrival_date_month'] = pd.Categorical(df_hotel['arrival_date_month'], categories=month_order, ordered=True)\n",
        "\n",
        "# Sort the data by month's categorical order\n",
        "sorted_months = df_hotel['arrival_date_month'].value_counts().sort_index()\n",
        "\n",
        "# Create a figure and axes\n",
        "plt.figure(figsize=(12, 8))\n",
        "\n",
        "# Define custom darker colors for each month\n",
        "colors = ['#8e44ad', '#c0392b', '#27ae60', '#d35400', '#1a5276', '#2c3e50',\n",
        "          '#e74c3c', '#34495e', '#f39c12', '#2980b9', '#ff5733', '#3498db']\n",
        "\n",
        "# Create a line plot\n",
        "sns.lineplot(x=sorted_months.index, y=sorted_months.values, marker='o', color=colors[3], label='Line Plot')\n",
        "\n",
        "# Create a bar plot\n",
        "sns.barplot(x=sorted_months.index, y=sorted_months.values, palette=colors, alpha=0.6, label='Bar Plot')\n",
        "\n",
        "plt.xticks(rotation=45)\n",
        "plt.xlabel('Arrival Month')\n",
        "plt.ylabel('Number of Bookings')\n",
        "plt.title('Month-wise Hotel Bookings')\n",
        "plt.legend()\n",
        "plt.tight_layout()\n",
        "\n",
        "plt.show()\n"
      ],
      "metadata": {
        "id": "TLNAc2pTAgwU"
      },
      "execution_count": null,
      "outputs": []
    },
    {
      "cell_type": "markdown",
      "source": [
        "##### 1. Why did you pick the specific chart?"
      ],
      "metadata": {
        "id": "t6dVpIINYklI"
      }
    },
    {
      "cell_type": "markdown",
      "source": [
        "We choose the bar chart to analyze the monthly distribution of total bookings for both hotels separately because it effectively shows the trend of bookings over time. bar charts are particularly useful when we want to visualize how a variable changes with respect to another variable, in this case, the total bookings over different months.\n",
        "\n",
        "The bar chart enables us to see if there are any specific months when bookings are higher or lower for each hotel type. It can also help us identify any potential seasonal trends or fluctuations in booking behavior, which can be valuable for making business decisions and optimizing resources accordingly."
      ],
      "metadata": {
        "id": "5aaW0BYyYklI"
      }
    },
    {
      "cell_type": "markdown",
      "source": [
        "##### 2. What is/are the insight(s) found from the chart?"
      ],
      "metadata": {
        "id": "ijmpgYnKYklI"
      }
    },
    {
      "cell_type": "markdown",
      "source": [
        "Seasonal Variation: Both hotels experience fluctuations in the number of guests throughout the year. The highest number of guests are observed in August, which might indicate the peak vacation season. Conversely, January sees the lowest number of guests, likely due to the off-peak winter season.\n",
        "\n",
        "Differences Between Hotels: The city hotel consistently attracts more guests than the resort hotel in all months. This difference in guest numbers could be attributed to factors such as location, amenities, and target market.\n",
        "\n",
        "Popular Months: April, May, and June also show a good number of guests in both hotels, suggesting that these months are popular for tourism and bookings."
      ],
      "metadata": {
        "id": "PSx9atu2YklI"
      }
    },
    {
      "cell_type": "markdown",
      "source": [
        "##### 3. Will the gained insights help creating a positive business impact?\n",
        "Are there any insights that lead to negative growth? Justify with specific reason."
      ],
      "metadata": {
        "id": "-JiQyfWJYklI"
      }
    },
    {
      "cell_type": "markdown",
      "source": [
        "Business Impact: The gained insights can have a positive business impact for both hotels. By understanding the seasonal patterns, hotels can optimize their marketing strategies and pricing models to attract more guests during peak months and offer special promotions during slower months to drive bookings.\n",
        "\n",
        "Negative Growth: While the analysis doesn't explicitly reveal negative growth, the lower number of guests in certain months for the resort hotel may indicate a need for targeted marketing efforts or improvements in offerings to attract more guests during those periods.\n",
        "\n",
        "In conclusion, the insights from the line chart analysis can help hotels make data-driven decisions to enhance their business strategies, improve guest experiences, and maximize revenue throughout the year. By leveraging this information, hotels can better align their operations with seasonal demands and work towards sustainable growth."
      ],
      "metadata": {
        "id": "BcBbebzrYklV"
      }
    },
    {
      "cell_type": "markdown",
      "source": [
        "#### Chart - 3\n",
        "\n",
        "Q.3) Which type of distribution do customer prefer the most ?"
      ],
      "metadata": {
        "id": "EM7whBJCYoAo"
      }
    },
    {
      "cell_type": "code",
      "source": [
        "# Chart - 1 visualization code\n",
        "# Creating the table for most preferred distribution channel.\n",
        "distribution_channel = df_hotel.groupby([\"distribution_channel\"])['meal'].count().sort_values(ascending = False).reset_index().rename(columns = {\"distribution_channel\" : \"Distribution Channel\", \"meal\" : \"Count\"})\n",
        "distribution_channel"
      ],
      "metadata": {
        "id": "OytO-27JBcFD"
      },
      "execution_count": null,
      "outputs": []
    },
    {
      "cell_type": "code",
      "source": [
        "# Plotting the above table  graph will help reveal insights.\n",
        "group_by_dc = df_hotel.groupby('distribution_channel')\n",
        "d1 = pd.DataFrame(round((group_by_dc.size()/df_hotel.shape[0])*100,2)).reset_index().rename(columns = {0: 'Booking_%'})\n",
        "plt.figure(figsize = (7,7))\n",
        "data = d1['Booking_%']\n",
        "labels = d1['distribution_channel']\n",
        "plt.pie(x=data, autopct=\"%.2f%%\", explode=[0.05]*5, labels=labels, pctdistance=0.5)\n",
        "plt.title(\"Booking % by distribution channels\", fontsize=14);"
      ],
      "metadata": {
        "id": "AQp6BKdwBjq2"
      },
      "execution_count": null,
      "outputs": []
    },
    {
      "cell_type": "markdown",
      "source": [
        "##### 1. Why did you pick the specific chart?"
      ],
      "metadata": {
        "id": "fge-S5ZAYoAp"
      }
    },
    {
      "cell_type": "markdown",
      "source": [
        "We picked the specific chart of subplots with bar charts for revenue analysis based on the distribution channel to directly compare the revenue generated by different distribution channels for both city and resort hotels side by side. This visual arrangement makes it easy to identify any disparities or patterns in revenue distribution between the two hotel types.It helps hotel managers gain valuable insights into revenue trends, identify potential areas for improvement, and make informed business decisions to optimize their revenue strategies."
      ],
      "metadata": {
        "id": "5dBItgRVYoAp"
      }
    },
    {
      "cell_type": "markdown",
      "source": [
        "##### 2. What is/are the insight(s) found from the chart?"
      ],
      "metadata": {
        "id": "85gYPyotYoAp"
      }
    },
    {
      "cell_type": "markdown",
      "source": [
        "Travel Agency/Tour Operator (TA/TO): Both City Hotel and Resort Hotel have a higher revenue share from the TA/TO distribution channel, with City Hotel having a slightly higher percentage (1.6) compared to Resort Hotel (1.2). This indicates that travel agencies and tour operators play a significant role in driving bookings and revenue for both types of hotels.\n",
        "\n",
        "Direct Bookings: Resort Hotel has a higher revenue share from direct bookings (below 0.4) compared to City Hotel ( 0.2). This suggests that Resort Hotel attracts a larger portion of customers who book directly with the hotel, which can lead to higher profit margins due to the absence of commission fees for third-party agents.\n",
        "\n",
        "Corporate Bookings: Both City Hotel and Resort Hotel have relatively low revenue shares from corporate bookings (below 0.2). This insight indicates that corporate travelers might not be a significant revenue source for these hotels, and they may need to explore strategies to attract more corporate bookings to increase revenue from this segment.\n",
        "\n",
        "Global Distribution Systems (GDS): City Hotel has a very low revenue share from GDS, suggesting that this distribution channel is not a significant source of bookings and revenue for the hotel. Resort Hotel's GDS revenue share is not mentioned explicitly, but it could be inferred as being relatively low based on the information provided."
      ],
      "metadata": {
        "id": "4jstXR6OYoAp"
      }
    },
    {
      "cell_type": "markdown",
      "source": [
        "##### 3. Will the gained insights help creating a positive business impact?\n",
        "Are there any insights that lead to negative growth? Justify with specific reason."
      ],
      "metadata": {
        "id": "RoGjAbkUYoAp"
      }
    },
    {
      "cell_type": "markdown",
      "source": [
        "Positive Business Impact:\n",
        "\n",
        "Strategic Partnerships: Hotels can focus on building strong relationships with travel agencies and tour operators to enhance their revenue from this lucrative distribution channel further.\n",
        "\n",
        "Direct Booking Promotions: Both Hotel's higher revenue from direct bookings indicates an opportunity to implement targeted marketing campaigns and loyalty programs to attract more direct bookings and potentially increase revenue.\n",
        "\n",
        "Corporate Marketing Initiatives: Both City Hotel and Resort Hotel can invest in targeted marketing efforts to attract more corporate bookings, which could lead to increased revenue from business travelers.\n",
        "\n",
        "Negative Growth Insights: Based on the insights provided, there are no explicit indications of negative growth for any specific distribution channel. However, the low revenue share from certain channels, such as GDS and corporate bookings, might be considered areas for improvement. By addressing these challenges and optimizing revenue strategies, hotels can work towards reducing any potential negative impact and fostering overall growth.\n",
        "\n",
        "Overall, the gained insights can be valuable for hotel management to make data-driven decisions, optimize revenue strategies, and capitalize on the most profitable distribution channels to achieve positive business impact."
      ],
      "metadata": {
        "id": "zfJ8IqMcYoAp"
      }
    },
    {
      "cell_type": "markdown",
      "source": [
        "#### Chart - 4\n",
        "\n",
        "Q.4) Which meal type is most preferred meal of customer?"
      ],
      "metadata": {
        "id": "4Of9eVA-YrdM"
      }
    },
    {
      "cell_type": "code",
      "source": [
        "plt.figure( figsize=(10, 6))\n",
        "\n",
        "sns.countplot(x = df_hotel['meal'])\n",
        "plt.show()"
      ],
      "metadata": {
        "id": "irlUoxc8YrdO"
      },
      "execution_count": null,
      "outputs": []
    },
    {
      "cell_type": "markdown",
      "source": [
        "Most preferred meal type is BB (Bed and Breakfast)"
      ],
      "metadata": {
        "id": "aJRCwT6DYrdO"
      }
    },
    {
      "cell_type": "markdown",
      "source": [
        "1. Why did you pick the specific chart?\n",
        "* The countplot is a suitable choice for visualizing the distribution of a categorical variable like meal types. It allows you to easily compare the frequency of each meal type and identify which meal type is the most preferred among customers.\n",
        "\n"
      ],
      "metadata": {
        "id": "KMiu-Y5V4pR7"
      }
    },
    {
      "cell_type": "markdown",
      "source": [
        "2. What is/are the insight(s) found from the chart?\n",
        "* By analyzing the heights of the bars in the countplot, you can identify the most preferred meal type among customers. The meal type with the highest bar corresponds to the one that customers choose the most often. Additionally, you can see the distribution of meal preferences across different categories."
      ],
      "metadata": {
        "id": "Scp6BxX3iuLZ"
      }
    },
    {
      "cell_type": "markdown",
      "source": [
        "3. Will the gained insights help in creating a positive business impact?\n",
        "* Yes, the insights gained from this chart can help the business in several ways:\n",
        "\n",
        "* Understanding Customer Preferences: Knowing the most preferred meal type can help in tailoring the menu and catering to the majority of customers' preferences.\n",
        "* Inventory and Resource Planning: The business can plan its inventory and resources based on the popularity of different meal types, ensuring adequate availability of ingredients and staff.\n",
        "* Marketing and Promotion: Highlighting the most preferred meal type in marketing materials and promotions can attract more customers and potentially increase revenue."
      ],
      "metadata": {
        "id": "0OhvnyOyi1dB"
      }
    },
    {
      "cell_type": "markdown",
      "source": [
        "#### Chart - 5\n",
        "\n",
        "Q.5) Which hotel will have long term guest?"
      ],
      "metadata": {
        "id": "bamQiAODYuh1"
      }
    },
    {
      "cell_type": "code",
      "source": [
        "# Chart - 5 visualization code\n",
        "# table for hotelwise total guests\n",
        "total_guests = df_hotel.groupby([\"hotel\"])[\"is_repeated_guest\"].count().reset_index().rename(columns = {\"hotel\" : \"Hotel Type\", \"is_repeated_guest\" : \"Total Families\"})\n",
        "\n",
        "# table for hotelwise repeated guests.\n",
        "df1 = df_hotel[df_hotel[\"is_repeated_guest\"] == 1]\n",
        "df_is_repeated_guest = df1.groupby([\"hotel\"])[\"is_repeated_guest\"].count().reset_index().rename(columns = {\"hotel\" : \"Hotel Type\", \"is_repeated_guest\" : \"Repeated Families\"})\n",
        "\n",
        "# Merging above tables.\n",
        "repeated_guest = pd.merge(total_guests, df_is_repeated_guest, how = \"left\", left_on = \"Hotel Type\", right_on = \"Hotel Type\")\n",
        "repeated_guest\n",
        "\n",
        "# creating new columns for percentage of repeated families.\n",
        "repeated_guest[\"Percentage repeated families\"] = round((repeated_guest[\"Repeated Families\"] * 100) / repeated_guest[\"Total Families\"], 2)\n",
        "repeated_guest"
      ],
      "metadata": {
        "id": "TIJwrbroYuh3"
      },
      "execution_count": null,
      "outputs": []
    },
    {
      "cell_type": "code",
      "source": [
        "#graph of the repeated families table .\n",
        "plt.title(\"customer loyalty\")\n",
        "sns.barplot(x = \"Hotel Type\", y = 'Percentage repeated families', data =repeated_guest)\n"
      ],
      "metadata": {
        "id": "eXmo_CnbCNmD"
      },
      "execution_count": null,
      "outputs": []
    },
    {
      "cell_type": "markdown",
      "source": [
        "Resort Hotel has highest number of families visited repeatedly"
      ],
      "metadata": {
        "id": "dcxuIMRPYuh3"
      }
    },
    {
      "cell_type": "markdown",
      "source": [
        "1. Why did you pick the specific chart?\n"
      ],
      "metadata": {
        "id": "vgcyjb0Epxit"
      }
    },
    {
      "cell_type": "markdown",
      "source": [
        "* The specific chart choosen is a bar chart that displays the percentage of repeated families in different hotel types (City Hotel and Resort Hotel). We chose this chart because it effectively visualizes the loyalty of customers in each hotel type. It provides a clear comparison between the two hotel types, making it easy to identify which type has a higher percentage of repeated families."
      ],
      "metadata": {
        "id": "lxseiYnQpqEt"
      }
    },
    {
      "cell_type": "markdown",
      "source": [
        "2. What is/are the insight(s) found from the chart?"
      ],
      "metadata": {
        "id": "ZK2uQAQN2pJP"
      }
    },
    {
      "cell_type": "markdown",
      "source": [
        "* The bar chart reveals that the Resort Hotel has a significantly higher percentage of repeated families compared to the City Hotel.\n",
        "* This suggests that guests who have previously stayed at the Resort Hotel are more likely to return, indicating a higher level of guest loyalty for the Resort Hotel.\n",
        "* Conversely, the City Hotel has a lower percentage of repeated families, indicating a potentially lower level of guest loyalty in comparison."
      ],
      "metadata": {
        "id": "dOHsFCE-2sG5"
      }
    },
    {
      "cell_type": "markdown",
      "source": [
        "3. Will the gained insights help in creating a positive business impact?"
      ],
      "metadata": {
        "id": "ZyMi4CpD2zE5"
      }
    },
    {
      "cell_type": "markdown",
      "source": [
        "* Yes, the insights gained from this chart can have a positive business impact.\n",
        "* Recognizing that the Resort Hotel has a higher percentage of repeated families can help the business focus on retaining and further satisfying these loyal guests.\n",
        "* The City Hotel may benefit from implementing strategies to increase guest loyalty, such as improving services, providing loyalty programs, or enhancing the overall guest experience.\n",
        "* By understanding guest loyalty trends, both hotels can tailor their marketing efforts to target and retain loyal customers effectively.\n",
        "* Ultimately, increasing guest loyalty can lead to higher occupancy rates, increased revenue, and a positive impact on the business's long-term success."
      ],
      "metadata": {
        "id": "-XSEB2E_5yur"
      }
    },
    {
      "cell_type": "markdown",
      "source": [
        "#### Chart - 6\n",
        "\n",
        "Q.6) Which type of hotel is mostly preferred by adult's children or babies?"
      ],
      "metadata": {
        "id": "OH-pJp9IphqM"
      }
    },
    {
      "cell_type": "code",
      "source": [
        "import matplotlib.pyplot as plt\n",
        "\n",
        "# Calculate the total number of adults, children, and babies in each hotel type\n",
        "adults_by_hotel = df_hotel.groupby(['hotel'])['adults'].sum()\n",
        "children_by_hotel = df_hotel.groupby(['hotel'])['children'].sum()\n",
        "babies_by_hotel = df_hotel.groupby(['hotel'])['babies'].sum()\n",
        "\n",
        "# Create subplots for three pie charts\n",
        "fig, axs = plt.subplots(1, 3, figsize=(18, 6))\n",
        "\n",
        "# Pie chart for adults\n",
        "axs[0].pie(adults_by_hotel, labels=adults_by_hotel.index, autopct='%1.2f%%', startangle=90)\n",
        "axs[0].set_title('Adults in Hotel Types')\n",
        "\n",
        "# Pie chart for children\n",
        "axs[1].pie(children_by_hotel, labels=children_by_hotel.index, autopct='%1.2f%%', startangle=90)\n",
        "axs[1].set_title('Children in Hotel Types')\n",
        "\n",
        "# Pie chart for babies\n",
        "axs[2].pie(babies_by_hotel, labels=babies_by_hotel.index, autopct='%1.2f%%', startangle=90)\n",
        "axs[2].set_title('Babies in Hotel Types')\n",
        "\n",
        "plt.show()\n"
      ],
      "metadata": {
        "id": "eYoopN9I7PPw"
      },
      "execution_count": null,
      "outputs": []
    },
    {
      "cell_type": "markdown",
      "source": [
        "##### 1. Why did you pick the specific chart?"
      ],
      "metadata": {
        "id": "bbFf2-_FphqN"
      }
    },
    {
      "cell_type": "markdown",
      "source": [
        "* We choose to create three pie charts to visualize the distribution of adults, children, and babies in different hotel types (City Hotel and Resort Hotel). Pie charts are effective for displaying the composition of a whole (in this case, the total number of guests) by showing the proportions of different categories (adults, children, and babies) as slices of the pie. This chart type makes it easy to compare the distribution of these categories across hotel types."
      ],
      "metadata": {
        "id": "loh7H2nzphqN"
      }
    },
    {
      "cell_type": "markdown",
      "source": [
        "##### 2. What is/are the insight(s) found from the chart?"
      ],
      "metadata": {
        "id": "_ouA3fa0phqN"
      }
    },
    {
      "cell_type": "markdown",
      "source": [
        "From above pie chart it is clearly mension that 61.15 % of Adults preferring city hotel\n",
        "\n",
        "From above pie chart it is clearly mension that 58.14 % of children preferring city hotel\n",
        "\n",
        "From above pie chart it is clearly mension that 41.44% of babies preferring city hotel which is less than resort hotel\n",
        "From above it is clear that city hotels are mostly preferred by babies,adults and children"
      ],
      "metadata": {
        "id": "VECbqPI7phqN"
      }
    },
    {
      "cell_type": "markdown",
      "source": [
        "##### 3. Will the gained insights help creating a positive business impact?\n",
        "Are there any insights that lead to negative growth? Justify with specific reason."
      ],
      "metadata": {
        "id": "Seke61FWphqN"
      }
    },
    {
      "cell_type": "markdown",
      "source": [
        "* Understanding the distribution of adults, children, and babies in different hotel types can inform decisions related to room configurations, amenities, and services tailored to different guest types.\n",
        "* It can help hotels optimize their offerings to cater to the specific needs of families with children and babies, potentially leading to higher customer satisfaction and return visits.\n",
        "* By tailoring marketing strategies and promotions to specific guest segments (e.g., family-friendly offerings for hotels with a higher percentage of children), hotels can attract more guests and increase occupancy rates during peak seasons."
      ],
      "metadata": {
        "id": "DW4_bGpfphqN"
      }
    },
    {
      "cell_type": "markdown",
      "source": [
        "#### Chart - 7\n",
        "\n",
        "Q.7) From which country most of guest are coming?"
      ],
      "metadata": {
        "id": "PIIx-8_IphqN"
      }
    },
    {
      "cell_type": "code",
      "source": [
        "# Chart - 7 visualization code\n",
        "# Total guest from various countries.\n",
        "country_guest=df_hotel['country'].value_counts().reset_index().rename(columns={'index': 'country','country': 'count of guests'})[:5]\n",
        "\n",
        "# Plotting the graph\n",
        "plt.figure(figsize=(18,6))\n",
        "sns.barplot(x=country_guest['country'],y=country_guest['count of guests'])\n",
        "plt.xlabel('Countries')\n",
        "plt.ylabel('No. of guest',fontsize=15)\n",
        "plt.title(\"No. of guests from diffrent Countries\",fontsize=15)"
      ],
      "metadata": {
        "id": "lqAIGUfyphqO"
      },
      "execution_count": null,
      "outputs": []
    },
    {
      "cell_type": "markdown",
      "source": [
        "##### 1. Why did you pick the specific chart?"
      ],
      "metadata": {
        "id": "t27r6nlMphqO"
      }
    },
    {
      "cell_type": "markdown",
      "source": [
        "We picked the bar chart to visualize the number of guests from each country because it is an effective way to compare the total guests from different countries at a glance. The bar chart allows us to easily identify the countries with the highest number of guests, as the length of the bars directly represents the total guest count. Additionally, by showing only the top 10 countries, we can focus on the most significant contributors to the total number of guests, making the chart more informative and easy to interpret."
      ],
      "metadata": {
        "id": "iv6ro40sphqO"
      }
    },
    {
      "cell_type": "markdown",
      "source": [
        "##### 2. What is/are the insight(s) found from the chart?"
      ],
      "metadata": {
        "id": "r2jJGEOYphqO"
      }
    },
    {
      "cell_type": "markdown",
      "source": [
        "Portugal (PRT) has the highest number of guests with more than 80,000 bookings, indicating its popularity as a tourist destination.\n",
        "\n",
        "United Kingdom (GBR) and France (FRA) have around 20,000+ bookings, making them significant contributors to the total number of guests.\n",
        "\n",
        "Spain (ESP) has below 20,000 bookings, suggesting that it attracts a relatively lower number of guests compared to Portugal, the UK, and France.\n",
        "\n",
        "Germany (DEU) has even fewer bookings than Spain, indicating a lower demand for accommodations from German guests.\n",
        "\n",
        "Italy (ITA) has fewer bookings than Germany, indicating that it may not be as popular among hotel guests.\n",
        "\n",
        "Ireland (IRL) has even fewer bookings than Italy, suggesting a lower demand from Irish guests.\n",
        "\n",
        "Belgium (BEL), Brazil (BRA), and the USA have the lowest number of bookings among the top 10 countries, indicating relatively lower demand from guests in these countries."
      ],
      "metadata": {
        "id": "Po6ZPi4hphqO"
      }
    },
    {
      "cell_type": "markdown",
      "source": [
        "##### 3. Will the gained insights help creating a positive business impact?\n",
        "Are there any insights that lead to negative growth? Justify with specific reason."
      ],
      "metadata": {
        "id": "b0JNsNcRphqO"
      }
    },
    {
      "cell_type": "markdown",
      "source": [
        "Insights that lead to positive business impact:\n",
        "\n",
        "The high number of guests from Portugal, the UK, and France presents an opportunity for hotel businesses to cater to these markets and offer targeted promotions and services.\n",
        "Insights that may lead to negative growth:\n",
        "\n",
        "The lower number of guests from countries like Germany, Italy, Ireland, Belgium, Brazil, and the USA may suggest challenges in attracting guests from these regions. Hotels may need to explore marketing strategies or tailored offerings to attract guests from these countries and drive growth."
      ],
      "metadata": {
        "id": "xvSq8iUTphqO"
      }
    },
    {
      "cell_type": "markdown",
      "source": [
        "#### Chart - 8\n",
        "\n",
        "Q.8) Which hotel generated highest average revenue?"
      ],
      "metadata": {
        "id": "BZR9WyysphqO"
      }
    },
    {
      "cell_type": "code",
      "source": [
        "# Chart - 8 visualization code\n",
        "\n",
        "#Lets first group the hotel\n",
        "grouped_by_hotel = df_hotel.groupby('hotel')\n",
        "# calculating the average adr\n",
        "hotel_revenue = grouped_by_hotel['adr'].agg(np.mean).reset_index().rename(columns = {'adr':'avg_adr'})\n",
        "plt.figure(figsize = (9,6))\n",
        "avg = sns.barplot(x = hotel_revenue['hotel'], y = hotel_revenue['avg_adr'], palette =\"Set2\" )\n",
        "avg.set_title(\"Average revenue generated by hotels\")\n",
        "plt.show()"
      ],
      "metadata": {
        "id": "TdPTWpAVphqO"
      },
      "execution_count": null,
      "outputs": []
    },
    {
      "cell_type": "markdown",
      "source": [
        "##### 1. Why did you pick the specific chart?"
      ],
      "metadata": {
        "id": "jj7wYXLtphqO"
      }
    },
    {
      "cell_type": "markdown",
      "source": [
        "We picked the bar chart to visualize the total revenue by hotel type because it effectively compares the revenue generated by each type of hotel in a clear and straightforward manner. The bar chart allows for easy comparison between the two categories (City Hotel and Resort Hotel) and helps identify any significant differences in revenue."
      ],
      "metadata": {
        "id": "Ob8u6rCTphqO"
      }
    },
    {
      "cell_type": "markdown",
      "source": [
        "##### 2. What is/are the insight(s) found from the chart?"
      ],
      "metadata": {
        "id": "eZrbJ2SmphqO"
      }
    },
    {
      "cell_type": "markdown",
      "source": [
        "From the bar chart, we can observe that the revenue generated by the City Hotel is higher than 1.75 Million and the revenue generated by the Resort Hotel is higher than 1.50 Million. This suggests that both types of hotels are generating significant revenue."
      ],
      "metadata": {
        "id": "mZtgC_hjphqO"
      }
    },
    {
      "cell_type": "markdown",
      "source": [
        "##### 3. Will the gained insights help creating a positive business impact?\n",
        "Are there any insights that lead to negative growth? Justify with specific reason."
      ],
      "metadata": {
        "id": "rFu4xreNphqO"
      }
    },
    {
      "cell_type": "markdown",
      "source": [
        "Positive Business Impact: The insight that both types of hotels are generating substantial revenue indicates a positive business impact. It suggests that there is a strong demand for accommodations in both city and resort locations, leading to successful revenue generation for the hotels.\n",
        "\n",
        "Potential for Growth: The fact that both hotels are surpassing the 1.50 million revenue mark implies that there is potential for further growth in the future. The hotels can focus on strategic marketing, enhancing guest experiences, and optimizing their operations to attract more customers and increase revenue.\n",
        "\n",
        "Competitive Advantage: City hotels, in particular, have a slight edge over resort hotels, as their revenue is higher than 1.75 million. This indicates that city hotels may have a competitive advantage in terms of attracting business travelers, events, and conferences, which contribute to their higher revenue.\n",
        "\n",
        "Negative Growth: Based on the provided data, there is no insight suggesting negative growth for either hotel type. Both hotels are performing well in terms of revenue generation, and there are no indicators of declining revenue at this point.\n",
        "\n",
        "Overall, the gained insights indicate a positive business outlook for both city and resort hotels. The revenue generated by both types of hotels shows a promising trend, and there is potential for further growth and success in the hospitality industry. However, to maintain this positive trajectory, hotel management should continue to focus on delivering exceptional guest experiences, optimizing operations, and staying responsive to changing customer demands."
      ],
      "metadata": {
        "id": "ey_0qi68phqO"
      }
    },
    {
      "cell_type": "markdown",
      "source": [
        "#### Chart - 9\n",
        "\n",
        "Q.9) Which distribution channel has highest average daily rate?"
      ],
      "metadata": {
        "id": "YJ55k-q6phqO"
      }
    },
    {
      "cell_type": "code",
      "source": [
        "# Chart - 9 visualization code\n",
        "# group by distribution channel and hotel\n",
        "dist_channel=df_hotel.groupby(['distribution_channel','hotel'])['adr'].mean().reset_index()\n",
        "dist_channel"
      ],
      "metadata": {
        "id": "B2aS4O1ophqO"
      },
      "execution_count": null,
      "outputs": []
    },
    {
      "cell_type": "code",
      "source": [
        "# Determine which revenue-producing distribution route you can identify.\n",
        "\n",
        "plt.figure(figsize=(14,10))\n",
        "sns.barplot(x='distribution_channel', y='adr', data=dist_channel, hue='hotel',palette='mako')\n",
        "plt.title('ADR throughout the distribution chain');"
      ],
      "metadata": {
        "id": "uf9xx2IeDl73"
      },
      "execution_count": null,
      "outputs": []
    },
    {
      "cell_type": "markdown",
      "source": [
        "##### 1. Why did you pick the specific chart?"
      ],
      "metadata": {
        "id": "gCFgpxoyphqP"
      }
    },
    {
      "cell_type": "markdown",
      "source": [
        "We picked the specific chart of subplots with bar charts for revenue analysis based on the distribution channel to directly compare the revenue generated by different distribution channels for both city and resort hotels side by side. This visual arrangement makes it easy to identify any disparities or patterns in revenue distribution between the two hotel types.It helps hotel managers gain valuable insights into revenue trends, identify potential areas for improvement, and make informed business decisions to optimize their revenue strategies."
      ],
      "metadata": {
        "id": "TVxDimi2phqP"
      }
    },
    {
      "cell_type": "markdown",
      "source": [
        "##### 2. What is/are the insight(s) found from the chart?"
      ],
      "metadata": {
        "id": "OVtJsKN_phqQ"
      }
    },
    {
      "cell_type": "markdown",
      "source": [
        "Travel Agency/Tour Operator (TA/TO): Both City Hotel and Resort Hotel have a higher revenue share from the TA/TO distribution channel, with City Hotel having a slightly higher percentage (1.6) compared to Resort Hotel (1.2). This indicates that travel agencies and tour operators play a significant role in driving bookings and revenue for both types of hotels.\n",
        "\n",
        "Direct Bookings: Resort Hotel has a higher revenue share from direct bookings (below 0.4) compared to City Hotel ( 0.2). This suggests that Resort Hotel attracts a larger portion of customers who book directly with the hotel, which can lead to higher profit margins due to the absence of commission fees for third-party agents.\n",
        "\n",
        "Corporate Bookings: Both City Hotel and Resort Hotel have relatively low revenue shares from corporate bookings (below 0.2). This insight indicates that corporate travelers might not be a significant revenue source for these hotels, and they may need to explore strategies to attract more corporate bookings to increase revenue from this segment.\n",
        "\n",
        "Global Distribution Systems (GDS): City Hotel has a very low revenue share from GDS, suggesting that this distribution channel is not a significant source of bookings and revenue for the hotel. Resort Hotel's GDS revenue share is not mentioned explicitly, but it could be inferred as being relatively low based on the information provided."
      ],
      "metadata": {
        "id": "ngGi97qjphqQ"
      }
    },
    {
      "cell_type": "markdown",
      "source": [
        "##### 3. Will the gained insights help creating a positive business impact?\n",
        "Are there any insights that lead to negative growth? Justify with specific reason."
      ],
      "metadata": {
        "id": "lssrdh5qphqQ"
      }
    },
    {
      "cell_type": "markdown",
      "source": [
        "Positive Business Impact:\n",
        "\n",
        "Strategic Partnerships: Hotels can focus on building strong relationships with travel agencies and tour operators to enhance their revenue from this lucrative distribution channel further.\n",
        "\n",
        "Direct Booking Promotions: Both Hotel's higher revenue from direct bookings indicates an opportunity to implement targeted marketing campaigns and loyalty programs to attract more direct bookings and potentially increase revenue.\n",
        "\n",
        "Corporate Marketing Initiatives: Both City Hotel and Resort Hotel can invest in targeted marketing efforts to attract more corporate bookings, which could lead to increased revenue from business travelers.\n",
        "\n",
        "Negative Growth Insights: Based on the insights provided, there are no explicit indications of negative growth for any specific distribution channel. However, the low revenue share from certain channels, such as GDS and corporate bookings, might be considered areas for improvement. By addressing these challenges and optimizing revenue strategies, hotels can work towards reducing any potential negative impact and fostering overall growth.\n",
        "\n",
        "Overall, the gained insights can be valuable for hotel management to make data-driven decisions, optimize revenue strategies, and capitalize on the most profitable distribution channels to achieve positive business impact."
      ],
      "metadata": {
        "id": "tBpY5ekJphqQ"
      }
    },
    {
      "cell_type": "markdown",
      "source": [
        "#### Chart - 10\n",
        "Q.10) Which room type has highest ADR?"
      ],
      "metadata": {
        "id": "U2RJ9gkRphqQ"
      }
    },
    {
      "cell_type": "code",
      "source": [
        "# Chart - 10 visualization code\n",
        "df_hotel['assigned_room_type'].unique()"
      ],
      "metadata": {
        "id": "GM7a4YP4phqQ"
      },
      "execution_count": null,
      "outputs": []
    },
    {
      "cell_type": "code",
      "source": [
        "plt.figure(figsize =(14,5))\n",
        "group_by_room = df_hotel.groupby('assigned_room_type')\n",
        "df_hotel[\"Number_of_booking\"] = group_by_room.size()\n",
        "adr = sns.barplot(x = df_hotel['assigned_room_type'],y = df_hotel[\"adr\"])\n",
        "adr.set_title(\"ADR based on room type\",fontsize = 20)\n"
      ],
      "metadata": {
        "id": "YS6fff1tDvX6"
      },
      "execution_count": null,
      "outputs": []
    },
    {
      "cell_type": "markdown",
      "source": [
        "##### 1. Why did you pick the specific chart?"
      ],
      "metadata": {
        "id": "1M8mcRywphqQ"
      }
    },
    {
      "cell_type": "markdown",
      "source": [
        "We choose the count plot to visualize the distribution of bookings based on the \"reserved_room_type\" column because it effectively displays the number of bookings for each room type in a clear and easy-to-understand manner. This chart is especially useful when dealing with categorical data like room types and provides valuable insights into which room types are more popular among guests at both types of hotels.\n",
        "\n",
        "It helps stakeholders make data-driven decisions related to room management, pricing strategies, and promotional activities, which can lead to a positive business impact by optimizing revenue and customer satisfaction."
      ],
      "metadata": {
        "id": "8agQvks0phqQ"
      }
    },
    {
      "cell_type": "markdown",
      "source": [
        "##### 2. What is/are the insight(s) found from the chart?"
      ],
      "metadata": {
        "id": "tgIPom80phqQ"
      }
    },
    {
      "cell_type": "markdown",
      "source": [
        "H type has the highest Average daily rate followed by G type."
      ],
      "metadata": {
        "id": "Qp13pnNzphqQ"
      }
    },
    {
      "cell_type": "markdown",
      "source": [
        "##### 3. Will the gained insights help creating a positive business impact?\n",
        "Are there any insights that lead to negative growth? Justify with specific reason."
      ],
      "metadata": {
        "id": "JMzcOPDDphqR"
      }
    },
    {
      "cell_type": "markdown",
      "source": [
        "Positive business impact :\n",
        "\n",
        "Optimal Inventory Management: By knowing the most preferred room types, hotels can ensure that they have an adequate inventory of these rooms to meet the demand.\n",
        "\n",
        "Pricing Strategy: Knowing the popularity of room types can also help hotels set appropriate pricing. They can price the more popular room types slightly higher, maximizing revenue, while offering attractive deals for less popular room types to increase their demand.\n",
        "\n",
        "Marketing and Promotions: Hotels can use this information for targeted marketing and promotions.\n",
        "\n",
        "Room Allocation and Renovation: Based on the insights, hotels can allocate their resources and investments wisely. They can prioritize the maintenance and renovation of popular room types to ensure they are in top condition, attracting more guests.\n",
        "\n",
        "As for negative growth, one potential concern could be the underutilization of less popular room types. If certain room types consistently receive very few bookings, it may lead to revenue loss and inefficiency in resource allocation. However, by offering targeted promotions and packages for these room types, hotels can try to improve their utilization and mitigate any negative impact."
      ],
      "metadata": {
        "id": "R4Ka1PC2phqR"
      }
    },
    {
      "cell_type": "markdown",
      "source": [
        "#### Chart - 11\n",
        "\n",
        "Q.11) Which market segment has highest ADR?"
      ],
      "metadata": {
        "id": "x-EpHcCOp1ci"
      }
    },
    {
      "cell_type": "code",
      "source": [
        "# Chart - 11 visualization code\n",
        "\n",
        "df_hotel['market_segment'].unique()"
      ],
      "metadata": {
        "id": "mAQTIvtqp1cj"
      },
      "execution_count": null,
      "outputs": []
    },
    {
      "cell_type": "code",
      "source": [
        "#finding the mean by grouping the \"hotel,\" \"is_canceled,\" and \"market segment\"\n",
        "group_by=df_hotel.groupby(['hotel','is_canceled','market_segment'])['adr'].mean().reset_index()\n",
        "\n",
        "#plotting barchart\n",
        "plt.figure(figsize=(17,8))\n",
        "sns.barplot(x='market_segment',y='adr',hue='hotel',data=group_by.sort_values(by='adr',ascending=False))\n",
        "plt.title('Market segment ADR')"
      ],
      "metadata": {
        "id": "PHph9jERD3ee"
      },
      "execution_count": null,
      "outputs": []
    },
    {
      "cell_type": "markdown",
      "source": [
        "1. Why did you pick the specific chart?"
      ],
      "metadata": {
        "id": "BQfpe6DL8yUa"
      }
    },
    {
      "cell_type": "markdown",
      "source": [
        "\n",
        "* The specific chart chosen is a bar chart displaying the average daily rate (ADR) for different market segments within City Hotel and Resort Hotel. This chart was selected for the following reasons:\n",
        "\n",
        "1. Comparison of ADR Across Segments and Hotels: The bar chart is well-suited for comparing ADR across different market segments within two distinct hotel types (City Hotel and Resort Hotel). It allows for a clear visual comparison, making it easy to identify which market segments have the highest and lowest ADR for each hotel type.\n",
        "\n",
        "2. Categorical and Numerical Data: The chart effectively combines categorical data (hotel type and market segment) with numerical data (ADR), which is ideal for this type of analysis.\n",
        "\n",
        "3. Hue Differentiation: The use of hue (different colors for each hotel type) within each market segment enables viewers to distinguish between City Hotel and Resort Hotel, providing a more detailed comparison."
      ],
      "metadata": {
        "id": "jPsYWcnZ8zRQ"
      }
    },
    {
      "cell_type": "markdown",
      "source": [
        "2. What is/are the insight(s) found from the chart?"
      ],
      "metadata": {
        "id": "aFMrljNc897H"
      }
    },
    {
      "cell_type": "markdown",
      "source": [
        "The chart provides several valuable insights:\n",
        "\n",
        "* Market Segment ADR Variation: It reveals which market segments have the highest and lowest ADR within City Hotel and Resort Hotel. This information can guide pricing strategies and marketing efforts.\n",
        "\n",
        "* Hotel Type Comparison: By comparing ADR between City Hotel and Resort Hotel within the same market segment, the chart helps identify whether one hotel type consistently outperforms the other in specific market segments.\n",
        "\n",
        "* Revenue Optimization Opportunities: Insights from this chart can inform revenue optimization strategies. For example, the hotel can focus marketing campaigns on market segments with high ADR or adjust pricing strategies to maximize revenue."
      ],
      "metadata": {
        "id": "_0n_uiP_9EJd"
      }
    },
    {
      "cell_type": "markdown",
      "source": [
        "3. Will the gained insights help creating a positive business impact?\n",
        "Are there any insights that lead to negative growth? Justify with specific reason."
      ],
      "metadata": {
        "id": "rVIzdd5O9PSK"
      }
    },
    {
      "cell_type": "markdown",
      "source": [
        "\n",
        "The gained insights from this chart can indeed lead to a positive business impact:\n",
        "\n",
        "1. Informed Pricing Strategies: Understanding the ADR variations across market segments allows the hotel to adjust pricing strategies for different customer segments, potentially increasing revenue.\n",
        "\n",
        "2. Targeted Marketing Campaigns: Identifying market segments with high ADR presents opportunities for targeted marketing campaigns to attract more guests from these segments.\n",
        "\n",
        "3. Improved Competitiveness: By comparing ADR between different hotel types, the hotel can enhance its competitiveness in specific market segments.\n",
        "\n",
        "4. Data-Driven Decision-Making: Overall, the insights help in making data-driven decisions that optimize revenue and improve the hotel's financial performance."
      ],
      "metadata": {
        "id": "AJtkAOQt9WFh"
      }
    },
    {
      "cell_type": "markdown",
      "source": [
        "#### Chart - 12\n",
        "\n",
        "Q.12)Which month has highest average daily rate?"
      ],
      "metadata": {
        "id": "n3dbpmDWp1ck"
      }
    },
    {
      "cell_type": "code",
      "source": [
        "# Chart - 12 visualization code\n",
        "# Lets group arrival_date_month and hotel\n",
        "month_of_booking=df_hotel.groupby(['arrival_date_month','hotel'])['adr'].mean().reset_index()\n",
        "\n",
        "# make a month list.\n",
        "month = ['January', 'February', 'March', 'April', 'May', 'June', 'July', 'August', 'September', 'October', 'November', 'December']\n",
        "\n",
        "# It will take the order of the month list in the dataframe along with values.\n",
        "month_of_booking['arrival_date_month']=pd.Categorical(month_of_booking['arrival_date_month'],categories=month,ordered=True)\n",
        "\n",
        "# Lets sort the arrival_date_month\n",
        "month_of_booking=month_of_booking.sort_values('arrival_date_month')\n",
        "\n",
        "month_of_booking"
      ],
      "metadata": {
        "id": "bwevp1tKp1ck"
      },
      "execution_count": null,
      "outputs": []
    },
    {
      "cell_type": "code",
      "source": [
        "# Let's plot the arrival_date_month, adr, and hotel.\n",
        "plt.figure(figsize=(25,10))\n",
        "sns.lineplot(x=month_of_booking['arrival_date_month'],y=month_of_booking['adr'],hue=month_of_booking['hotel'])\n",
        "\n",
        "# set lables\n",
        "plt.title('ADR of each month')\n",
        "plt.xlabel('Months')\n",
        "plt.ylabel('Average Daily Rate')"
      ],
      "metadata": {
        "id": "J3uP8LyrEAlb"
      },
      "execution_count": null,
      "outputs": []
    },
    {
      "cell_type": "markdown",
      "source": [
        "##### 1. Why did you pick the specific chart?"
      ],
      "metadata": {
        "id": "ylSl6qgtp1ck"
      }
    },
    {
      "cell_type": "markdown",
      "source": [
        "We choose the line chart to analyze the monthly distribution of total bookings for both hotels separately because it effectively shows the trend of bookings over time. Line charts are particularly useful when we want to visualize how a variable changes with respect to another variable, in this case, the total bookings over different months.\n",
        "\n",
        "The line chart enables us to see if there are any specific months when bookings are higher or lower for each hotel type. It can also help us identify any potential seasonal trends or fluctuations in booking behavior, which can be valuable for making business decisions and optimizing resources accordingly."
      ],
      "metadata": {
        "id": "m2xqNkiQp1ck"
      }
    },
    {
      "cell_type": "markdown",
      "source": [
        "\n",
        "##### 2. What is/are the insight(s) found from the chart?"
      ],
      "metadata": {
        "id": "ZWILFDl5p1ck"
      }
    },
    {
      "cell_type": "markdown",
      "source": [
        "In comparison to City Hotels, the ADR for Resrot Hotel is higher in the months of June, July, and August. Perhaps clients/people wish to vacation in resort hotels this summer.\n",
        "\n",
        "January, February, March, April, October, November, and December are the ideal months for visitors to resort or city hotels because of the low average daily rate throughout these months."
      ],
      "metadata": {
        "id": "x-lUsV2mp1ck"
      }
    },
    {
      "cell_type": "markdown",
      "source": [
        "##### 3. Will the gained insights help creating a positive business impact?\n",
        "Are there any insights that lead to negative growth? Justify with specific reason."
      ],
      "metadata": {
        "id": "M7G43BXep1ck"
      }
    },
    {
      "cell_type": "markdown",
      "source": [
        "Business Impact: The gained insights can have a positive business impact for both hotels. By understanding the seasonal patterns, hotels can optimize their marketing strategies and pricing models to attract more guests during peak months and offer special promotions during slower months to drive bookings.\n",
        "\n",
        "Negative Growth: While the analysis doesn't explicitly reveal negative growth, the lower number of guests in certain months for the resort hotel may indicate a need for targeted marketing efforts or improvements in offerings to attract more guests during those periods.\n",
        "\n",
        "In conclusion, the insights from the line chart analysis can help hotels make data-driven decisions to enhance their business strategies, improve guest experiences, and maximize revenue throughout the year. By leveraging this information, hotels can better align their operations with seasonal demands and work towards sustainable growth."
      ],
      "metadata": {
        "id": "5wwDJXsLp1cl"
      }
    },
    {
      "cell_type": "markdown",
      "source": [
        "#### Chart - 13\n",
        "\n",
        "Q.13) Which hotel has higher bookings cancellation rate?"
      ],
      "metadata": {
        "id": "Ag9LCva-p1cl"
      }
    },
    {
      "cell_type": "code",
      "source": [
        "# Chart - 13 visualization code\n",
        "\n",
        "#Checking monthly wise cancelation\n",
        "df_hotel[df_hotel['is_canceled'] == 1]['arrival_date_month'].value_counts()"
      ],
      "metadata": {
        "id": "EUfxeq9-p1cl"
      },
      "execution_count": null,
      "outputs": []
    },
    {
      "cell_type": "code",
      "source": [
        "\n",
        "plt.figure(figsize = (20,11))\n",
        "#here we will use the sns for plot and find out the which month saw the most canceled reservations.\n",
        "fx = sns.countplot(x = 'arrival_date_month',hue = 'hotel', data = df_hotel[df_hotel['is_canceled'] == 1], palette =\"Set2\")\n",
        "fx.set_ylabel('cancelled booking')\n",
        "fx.set_title('booking month cancel', fontsize = 14)"
      ],
      "metadata": {
        "id": "ZyctLPlvELvd"
      },
      "execution_count": null,
      "outputs": []
    },
    {
      "cell_type": "markdown",
      "source": [
        "##### 1. Why did you pick the specific chart?"
      ],
      "metadata": {
        "id": "E6MkPsBcp1cl"
      }
    },
    {
      "cell_type": "markdown",
      "source": [
        "We picked the specific bar chart to visualize the percentage of canceled bookings for each hotel type because it effectively displays the comparison between the two categories (city hotel and resort hotel) in a clear and straightforward manner. The bar chart allows us to easily see the difference in the percentage of canceled bookings between the two types of hotels and helps identify any potential patterns or trends. It also enables a quick comparison between the two categories, making it easy to draw insights and understand the impact of cancellations on each hotel type."
      ],
      "metadata": {
        "id": "V22bRsFWp1cl"
      }
    },
    {
      "cell_type": "markdown",
      "source": [
        "##### 2. What is/are the insight(s) found from the chart?"
      ],
      "metadata": {
        "id": "2cELzS2fp1cl"
      }
    },
    {
      "cell_type": "markdown",
      "source": [
        "For hotels in cities, the majority of cancellations occurred in the month of October, but for hotels in resort areas, the majority occurred in the month of August. Additionally, similar cancellations of reservations for both hotel types occurred in the month of August. City hotels had greater cancellations of reservations overall."
      ],
      "metadata": {
        "id": "ozQPc2_Ip1cl"
      }
    },
    {
      "cell_type": "markdown",
      "source": [
        "##### 3. Will the gained insights help creating a positive business impact?\n",
        "Are there any insights that lead to negative growth? Justify with specific reason."
      ],
      "metadata": {
        "id": "3MPXvC8up1cl"
      }
    },
    {
      "cell_type": "markdown",
      "source": [
        "Positive Business Impact:\n",
        "\n",
        "By identifying the factors contributing to higher cancellation rates in the City Hotel, the marketing team can tailor their promotions and offers to attract more committed guests.\n",
        "\n",
        "Analyzing the reasons behind cancellations can help the hotel staff proactively address customer concerns, leading to improved guest satisfaction and higher customer retention. Providing personalized services and addressing potential issues promptly can enhance guest loyalty.\n",
        "\n",
        "Reducing cancellation rates can lead to increased revenue stability for the City Hotel. A lower number of cancellations means more guaranteed bookings, allowing the hotel to optimize room inventory, minimize revenue losses, and enhance revenue predictability.\n",
        "\n",
        "Negative Growth Insights: The higher cancellation rate in the City Hotel might lead to negative growth if not addressed appropriately. Several potential negative impacts include:\n",
        "1. Revenue Loss\n",
        "2. Operational Challenges\n",
        "3. Reputation Damage"
      ],
      "metadata": {
        "id": "GL8l1tdLp1cl"
      }
    },
    {
      "cell_type": "markdown",
      "source": [
        "#### Chart - 14 - Correlation Heatmap"
      ],
      "metadata": {
        "id": "NC_X3p0fY2L0"
      }
    },
    {
      "cell_type": "code",
      "source": [
        "# Correlation Heatmap visualization code\n",
        "# Correlation Heatmap visualization code\n",
        "\n",
        "# Selecting numerical columns for correlation analysis\n",
        "numerical_columns = df_hotel.select_dtypes(include=[np.number])\n",
        "\n",
        "# Calculating the correlation matrix\n",
        "correlation_matrix = numerical_columns.corr()\n",
        "\n",
        "# Create a heatmap\n",
        "plt.figure(figsize=(12, 10))\n",
        "sns.heatmap(correlation_matrix, annot=True, cmap='coolwarm', fmt='.2f', linewidths=0.5)\n",
        "plt.title(\"Correlation Heatmap of Numerical Columns\")\n",
        "plt.show()"
      ],
      "metadata": {
        "id": "xyC9zolEZNRQ"
      },
      "execution_count": null,
      "outputs": []
    },
    {
      "cell_type": "markdown",
      "source": [
        "##### 1. Why did you pick the specific chart?"
      ],
      "metadata": {
        "id": "UV0SzAkaZNRQ"
      }
    },
    {
      "cell_type": "markdown",
      "source": [
        "We picked the correlation heatmap chart because it allows us to visually analyze the relationships between numerical variables in the dataset. The heatmap is an effective way to display the correlation matrix, which helps us understand the strength and direction of the correlations between different variables.\n",
        "\n",
        "The correlation heatmap is particularly useful in an EDA (Exploratory Data Analysis) project because it provides a quick overview of how variables are related to each other. By looking at the heatmap, we can identify patterns and dependencies between features, which can help us make informed decisions during data analysis and modeling.\n",
        "\n",
        "The correlation heatmap is a powerful tool for gaining insights into the dataset's internal relationships and can aid in identifying key features that influence various aspects of the hotel booking analysis."
      ],
      "metadata": {
        "id": "pS5y5kfCL4Xv"
      }
    },
    {
      "cell_type": "markdown",
      "source": [
        "##### 2. What is/are the insight(s) found from the chart?"
      ],
      "metadata": {
        "id": "YPEH6qLeZNRQ"
      }
    },
    {
      "cell_type": "markdown",
      "source": [
        "There is a positive correlation between \"lead_time\" and \"is_canceled\". This indicates that longer lead times might be associated with a higher likelihood of cancellations.\n",
        "\n",
        "This chart also indicates that the there are high number of stay_week_nights\n",
        "\n",
        "The number of adults in the stay_guests are more as compare to the other guests.\n",
        "\n",
        "There is a negative correlation between the number of \"total_of_special_requests\" and \"is_canceled\". This implies that guests who make more special requests are less likely to cancel their bookings.\n",
        "\n",
        "There is a weak positive correlation between \"arrival_date_year\" and \"lead_time\". This indicates that lead times for bookings might have slightly increased over the years.\n",
        "\n",
        "These insights help us understand the interplay between various factors in hotel bookings and can guide further analysis and decision-making in the EDA project."
      ],
      "metadata": {
        "id": "bfSqtnDqZNRR"
      }
    },
    {
      "cell_type": "markdown",
      "source": [
        "#### Chart - 15 - Pair Plot"
      ],
      "metadata": {
        "id": "q29F0dvdveiT"
      }
    },
    {
      "cell_type": "code",
      "source": [
        "# Pair Plot visualization code\n",
        "# Pair Plot visualization code\n",
        "\n",
        "import seaborn as sns\n",
        "import matplotlib.pyplot as plt\n",
        "\n",
        "# Assuming you have a DataFrame called df_subset with the desired columns\n",
        "# Replace 'data_columns' with the columns you want to analyze\n",
        "data_columns = ['lead_time', 'stays_in_weekend_nights', 'stays_in_week_nights', 'adr', 'total_of_special_requests']\n",
        "\n",
        "# Create the pair plot\n",
        "sns.pairplot(Hotel_Bookings[data_columns])\n",
        "plt.title('Pair Plot')\n",
        "plt.show()\n"
      ],
      "metadata": {
        "id": "o58-TEIhveiU"
      },
      "execution_count": null,
      "outputs": []
    },
    {
      "cell_type": "markdown",
      "source": [
        "##### 1. Why did you pick the specific chart?"
      ],
      "metadata": {
        "id": "EXh0U9oCveiU"
      }
    },
    {
      "cell_type": "markdown",
      "source": [
        "We chose the Pair Plot chart because it allows for the visualization of the pairwise relationships between multiple variables in the dataset. The Pair Plot is especially useful when dealing with a relatively small number of numerical variables, as it helps us quickly understand how these variables are distributed and whether there are any obvious patterns or correlations.\n",
        "\n",
        "The Pair Plot is a powerful tool for gaining a comprehensive understanding of the relationships between numerical variables in the dataset. It aids in identifying patterns, correlations, and potential issues, which can inform further analysis and decision-making in the hotel booking analysis project."
      ],
      "metadata": {
        "id": "eMmPjTByveiU"
      }
    },
    {
      "cell_type": "markdown",
      "source": [
        "##### 2. What is/are the insight(s) found from the chart?"
      ],
      "metadata": {
        "id": "22aHeOlLveiV"
      }
    },
    {
      "cell_type": "markdown",
      "source": [
        "The lead time for most of the customers is below 300 and mostly for those who stays_in_week_nights\n",
        "\n",
        "adr in all segments are below 1000.\n",
        "\n",
        "total_guests in each group ( including all types of guest - adults, child , babies) are less than 10\n",
        "\n",
        "no. of guests stays in week nights is higher than no, of guest stays in weekend nights."
      ],
      "metadata": {
        "id": "uPQ8RGwHveiV"
      }
    },
    {
      "cell_type": "markdown",
      "source": [
        "## **5. Solution to Business Objective**"
      ],
      "metadata": {
        "id": "JcMwzZxoAimU"
      }
    },
    {
      "cell_type": "markdown",
      "source": [
        "#### What do you suggest the client to achieve Business Objective ?\n",
        "Explain Briefly.\n",
        "\n",
        "Business Objective attained as follows:\n",
        "\n",
        "1. For hotel business to flourish few things which we need to consider is high revenue genaration,customeres satisfaction and employee retention"
      ],
      "metadata": {
        "id": "8G2x9gOozGDZ"
      }
    },
    {
      "cell_type": "markdown",
      "source": [
        "Based on the insights gained from the EDA project, here are some suggestions for the client to achieve their business objectives:\n",
        "\n",
        "Promote City Hotel's Popularity: Since City Hotels have significantly higher bookings and revenue compared to Resort Hotels, the client can capitalize on this popularity and invest more in marketing and promotions to further attract guests. Targeted marketing campaigns can be designed to showcase the unique offerings of City Hotel and reach out to potential customers.\n",
        "\n",
        "Enhance Revenue Generation: As City Hotel's average daily rate is slightly higher, the client can explore opportunities to optimize revenue further. Dynamic pricing strategies can be implemented to maximize revenue during peak seasons and events. Additionally, creating attractive packages and offers can entice guests to choose City Hotel for their stays.\n",
        "\n",
        "Target Online Travel Agencies: The high number of bookings from the Online TA segment presents an opportunity for the client to strengthen partnerships with online travel agencies and tour operators. Collaborating with these channels can lead to increased visibility and bookings.\n",
        "\n",
        "Customer Experience Improvement: Understanding the preferences of guests and their reasons for cancellations can help the client enhance the overall customer experience. Special attention can be given to meeting the needs of corporate travelers and encouraging direct bookings by offering personalized experiences and loyalty rewards.\n",
        "\n",
        "Promote Resort Hotel's Unique Offerings: To increase bookings for Resort Hotel, the client can highlight its unique features such as leisure amenities, recreational facilities, and scenic locations. Targeted marketing campaigns can attract vacationers seeking relaxation and enjoyable experiences.\n",
        "\n",
        "Strategic Room Allocation: Since certain room types are more popular, the client can strategically allocate resources and promote the preferred room types to optimize bookings and revenue.\n",
        "\n",
        "Manage Lead Time: The insights on lead time and cancellations can help the client manage bookings more effectively. Special offers or incentives can be provided to guests who book in advance to reduce cancellations.\n",
        "\n",
        "Meal Plan Customization: Understanding the most popular meal plan (Bed and Breakfast) can help the client tailor their meal offerings to align with customer preferences. Offering attractive meal packages can also enhance guest satisfaction and increase bookings.\n",
        "\n",
        "Customer Segmentation: The insights on customer preferences can help the client segment their market and create targeted marketing campaigns for different customer groups. For example, targeting business travelers with specific packages or promotions can increase bookings from this segment.\n",
        "\n",
        "Focus on Peak Months: The client can plan marketing and promotional activities during peak months like April, May, and June to attract more guests during the popular vacation season.\n",
        "\n",
        "Strengthening Relationships with Top Agents: The top-performing agents can be engaged in long-term partnerships, offering them incentives, or exclusive deals to continue driving high bookings.\n",
        "\n",
        "Enhancing Direct Bookings: The client can focus on enhancing direct booking channels by offering competitive rates, special offers, and a seamless booking experience on their website.\n",
        "\n",
        "Improve Customer Loyalty: To encourage repeat bookings and reduce cancellations, the client can introduce loyalty programs, offer rewards, or provide exclusive benefits to returning guests.\n",
        "\n",
        "Understanding Guest Demands: To cater to the preferences of guests, the client can use the insights on stay preferences, number of guests, and special requests to customize their offerings and services.\n",
        "\n",
        "Optimizing Stay Duration: The client can use insights on stays in week nights and weekend nights to create targeted promotions and packages for guests seeking extended stays or weekend getaways.\n",
        "\n",
        "By leveraging these insights and implementing targeted strategies, the client can improve guest satisfaction, increase bookings, optimize revenue, and achieve their business objectives. Continuous monitoring and analysis of guest preferences and market trends will further enable the client to adapt their strategies and stay competitive in the hotel industry.\n",
        "\n"
      ],
      "metadata": {
        "id": "pASKb0qOza21"
      }
    },
    {
      "cell_type": "markdown",
      "source": [
        "# **Conclusion**"
      ],
      "metadata": {
        "id": "gCX9965dhzqZ"
      }
    },
    {
      "cell_type": "markdown",
      "source": [
        "1 .There are total 2 types of hotels, city hotel and resort hotel.\n",
        "\n",
        "2 .City hotel were most preffered by the customer than Resort hotel.\n",
        "\n",
        "3 .Maximum number of bookings were done in month of August.\n",
        "\n",
        "4 .As compared to couples ,single and family with more than 3 members is less expensive.\n",
        "\n",
        "5 .TA/TO distribution channel is more preffered by the customer as compnared to others,In order to grow their business, hotels might partner with these agents and operators or promote using them as a medium.\n",
        "\n",
        "6 .Most visitors of resort hotel stayed for one day, however most city hotel guests spent anywhere between one and seven days.\n",
        "\n",
        "7 .The most popular meal type among guests is BB (Bed and Breakfast), followed by HB (Half Board) and SC (Self Catering).From the above graph it is clear that highest rate of returning customers are from the resort hotel.\n",
        "\n",
        "8 .City hotels are mostly preferred by babies, adults and children.\n",
        "\n",
        "9 .More than 25000 people, or the majority of the attendees, are from Portugal. The average revenue of city hotels is higher than that of resort hotels.\n",
        "\n",
        "10 .H type has the highest Average daily rate followed by G type.\n",
        "\n",
        "11 .January, February, March, April, October, November, and December are the ideal months for visitors to resort or city hotels because of the low average daily rate throughout these months.\n",
        "\n",
        "12 .For hotels in cities, the majority of cancellations occurred in the month of October, but for hotels in resort areas, the majority occurred in the month of August. Additionally, similar\n",
        "cancellations of reservations for both hotel types occurred in the month of August. City hotels had greater cancellations of reservations overall.\n",
        "\n",
        "13 .For hotels in cities, the majority of cancellations occurred in the month of October, but for hotels in resort areas, the majority occurred in the month of August. Additionally, similar cancellations of reservations for both hotel types occurred in the month of August. City hotels had greater cancellations of reservations overall.\n",
        "\n",
        "14 .About 30% of hotel reservations for city hotels and 24% for resort hotels are cancelled.\n",
        "\n",
        "15 .PRT country made the highest number of cancelation under the city hotel.\n",
        "\n",
        "16 .Here we understand that the PRT country has made the large number of cencelation in resort type hotel.\n",
        "\n",
        "17 .There is no direct correlation between a longer waiting period and booking cancellation, as can be seen from the fact that the majority of reservations that had less than 100 days on the waiting list were cancelled. However, reservations that had more than 100 days on the waiting list were also cancelled at a slightly higher rate.\n",
        "\n",
        "18 .91.6 % guests does not required the parking space. only 8.3 % guests required parking space.\n",
        "\n",
        "19 .Most popular meal type among guests is BB (Bed and Breakfast), followed by HB (Half Board) and SC (Self Catering)."
      ],
      "metadata": {
        "id": "99XmUlCuGm68"
      }
    },
    {
      "cell_type": "markdown",
      "source": [
        "### ***Hurrah! You have successfully completed your EDA Capstone Project !!!***"
      ],
      "metadata": {
        "id": "gIfDvo9L0UH2"
      }
    }
  ]
}